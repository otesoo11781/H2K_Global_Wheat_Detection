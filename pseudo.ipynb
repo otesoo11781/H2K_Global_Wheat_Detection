{
 "cells": [
  {
   "cell_type": "code",
   "execution_count": 1,
   "metadata": {
    "_cell_guid": "b1076dfc-b9ad-4769-8c92-a6c4dae69d19",
    "_uuid": "8f2839f25d086af736a60e9eeb907d3b93b6e0e5",
    "execution": {
     "iopub.execute_input": "2020-12-29T19:53:01.402043Z",
     "iopub.status.busy": "2020-12-29T19:53:01.401215Z",
     "iopub.status.idle": "2020-12-29T19:53:57.835116Z",
     "shell.execute_reply": "2020-12-29T19:53:57.833889Z"
    },
    "papermill": {
     "duration": 56.448335,
     "end_time": "2020-12-29T19:53:57.835261",
     "exception": false,
     "start_time": "2020-12-29T19:53:01.386926",
     "status": "completed"
    },
    "tags": []
   },
   "outputs": [
    {
     "name": "stdout",
     "output_type": "stream",
     "text": [
      "Processing /kaggle/input/webcolors/webcolors-1.11.1-py3-none-any.whl\r\n",
      "Installing collected packages: webcolors\r\n",
      "Successfully installed webcolors-1.11.1\r\n",
      "Processing /kaggle/input/ensemble-boxes/ensemble_boxes-1.0.4-py3-none-any.whl\r\n",
      "Requirement already satisfied: pandas in /opt/conda/lib/python3.7/site-packages (from ensemble-boxes==1.0.4) (1.1.5)\r\n",
      "Requirement already satisfied: numpy in /opt/conda/lib/python3.7/site-packages (from ensemble-boxes==1.0.4) (1.18.5)\r\n",
      "Requirement already satisfied: numba in /opt/conda/lib/python3.7/site-packages (from ensemble-boxes==1.0.4) (0.49.1)\r\n",
      "Requirement already satisfied: numpy in /opt/conda/lib/python3.7/site-packages (from ensemble-boxes==1.0.4) (1.18.5)\r\n",
      "Requirement already satisfied: setuptools in /opt/conda/lib/python3.7/site-packages (from numba->ensemble-boxes==1.0.4) (46.1.3.post20200325)\r\n",
      "Requirement already satisfied: llvmlite<=0.33.0.dev0,>=0.31.0.dev0 in /opt/conda/lib/python3.7/site-packages (from numba->ensemble-boxes==1.0.4) (0.31.0)\r\n",
      "Requirement already satisfied: numpy in /opt/conda/lib/python3.7/site-packages (from ensemble-boxes==1.0.4) (1.18.5)\r\n",
      "Requirement already satisfied: pytz>=2017.2 in /opt/conda/lib/python3.7/site-packages (from pandas->ensemble-boxes==1.0.4) (2019.3)\r\n",
      "Requirement already satisfied: python-dateutil>=2.7.3 in /opt/conda/lib/python3.7/site-packages (from pandas->ensemble-boxes==1.0.4) (2.8.1)\r\n",
      "Requirement already satisfied: six>=1.5 in /opt/conda/lib/python3.7/site-packages (from python-dateutil>=2.7.3->pandas->ensemble-boxes==1.0.4) (1.14.0)\r\n",
      "Installing collected packages: ensemble-boxes\r\n",
      "Successfully installed ensemble-boxes-1.0.4\r\n"
     ]
    }
   ],
   "source": [
    "!pip install ../input/webcolors/webcolors-1.11.1-py3-none-any.whl\n",
    "!pip install ../input/ensemble-boxes/ensemble_boxes-1.0.4-py3-none-any.whl"
   ]
  },
  {
   "cell_type": "code",
   "execution_count": 2,
   "metadata": {
    "_cell_guid": "79c7e3d0-c299-4dcb-8224-4455121ee9b0",
    "_uuid": "d629ff2d2480ee46fbb7e2d37f6b5fab8052498a",
    "collapsed": true,
    "execution": {
     "iopub.execute_input": "2020-12-29T19:53:57.861829Z",
     "iopub.status.busy": "2020-12-29T19:53:57.860905Z",
     "iopub.status.idle": "2020-12-29T21:07:45.340898Z",
     "shell.execute_reply": "2020-12-29T21:07:45.339658Z"
    },
    "papermill": {
     "duration": 4427.49774,
     "end_time": "2020-12-29T21:07:45.341039",
     "exception": false,
     "start_time": "2020-12-29T19:53:57.843299",
     "status": "completed"
    },
    "tags": []
   },
   "outputs": [
    {
     "name": "stdout",
     "output_type": "stream",
     "text": [
      "> Predict test images ...\r\n",
      "/opt/conda/lib/python3.7/site-packages/ensemble_boxes/ensemble_boxes_wbf.py:73: UserWarning: X2 > 1 in box. Set it to 1. Check that you normalize boxes in [0, 1] range.\r\n",
      "  warnings.warn('X2 > 1 in box. Set it to 1. Check that you normalize boxes in [0, 1] range.')\r\n",
      "/opt/conda/lib/python3.7/site-packages/ensemble_boxes/ensemble_boxes_wbf.py:85: UserWarning: Y2 > 1 in box. Set it to 1. Check that you normalize boxes in [0, 1] range.\r\n",
      "  warnings.warn('Y2 > 1 in box. Set it to 1. Check that you normalize boxes in [0, 1] range.')\r\n",
      "/opt/conda/lib/python3.7/site-packages/ensemble_boxes/ensemble_boxes_wbf.py:73: UserWarning: X2 > 1 in box. Set it to 1. Check that you normalize boxes in [0, 1] range.\r\n",
      "  warnings.warn('X2 > 1 in box. Set it to 1. Check that you normalize boxes in [0, 1] range.')\r\n",
      "> Pseudo labeling ...\r\n",
      "         image_id  width  height                         bbox     source\r\n",
      "0       b6ab77fd7   1024    1024   [834.0, 222.0, 56.0, 36.0]    usask_1\r\n",
      "1       b6ab77fd7   1024    1024  [226.0, 548.0, 130.0, 58.0]    usask_1\r\n",
      "2       b6ab77fd7   1024    1024  [377.0, 504.0, 74.0, 160.0]    usask_1\r\n",
      "3       b6ab77fd7   1024    1024  [834.0, 95.0, 109.0, 107.0]    usask_1\r\n",
      "4       b6ab77fd7   1024    1024  [26.0, 144.0, 124.0, 117.0]    usask_1\r\n",
      "...           ...    ...     ...                          ...        ...\r\n",
      "147788  5e0747034   1024    1024    [64.0, 619.0, 84.0, 95.0]  arvalis_2\r\n",
      "147789  5e0747034   1024    1024  [292.0, 549.0, 107.0, 82.0]  arvalis_2\r\n",
      "147790  5e0747034   1024    1024  [134.0, 228.0, 141.0, 71.0]  arvalis_2\r\n",
      "147791  5e0747034   1024    1024   [430.0, 13.0, 184.0, 79.0]  arvalis_2\r\n",
      "147792  5e0747034   1024    1024   [875.0, 740.0, 94.0, 61.0]  arvalis_2\r\n",
      "\r\n",
      "[147793 rows x 5 columns]\r\n",
      "          image_id  width  height                          bbox source\r\n",
      "0    nvnn796707dd7   1024    1024  [712.0, 824.0, 106.0, 100.0]   nvnn\r\n",
      "1    nvnn796707dd7   1024    1024   [504.0, 784.0, 94.0, 106.0]   nvnn\r\n",
      "2    nvnn796707dd7   1024    1024   [896.0, 332.0, 108.0, 92.0]   nvnn\r\n",
      "3    nvnn796707dd7   1024    1024    [942.0, 70.0, 80.0, 110.0]   nvnn\r\n",
      "4    nvnn796707dd7   1024    1024  [468.0, 266.0, 112.0, 104.0]   nvnn\r\n",
      "..             ...    ...     ...                           ...    ...\r\n",
      "265  nvnn348a992bb   1024    1024      [2.0, 228.0, 44.0, 78.0]   nvnn\r\n",
      "266  nvnn348a992bb   1024    1024      [2.0, 524.0, 54.0, 68.0]   nvnn\r\n",
      "267  nvnn348a992bb   1024    1024    [480.0, 850.0, 64.0, 72.0]   nvnn\r\n",
      "268  nvnn348a992bb   1024    1024    [374.0, 858.0, 70.0, 60.0]   nvnn\r\n",
      "269  nvnn348a992bb   1024    1024    [894.0, 986.0, 74.0, 36.0]   nvnn\r\n",
      "\r\n",
      "[270 rows x 5 columns]\r\n",
      "> Train test images ...\r\n",
      "[Info] loaded weights: efficientdet-d6_204_57500_mix_cut.pth, resuming checkpoint from step: 0\r\n",
      "> Use 1 gpus\r\n",
      "> Start training ...\r\n",
      "  0%|                                                   | 0/845 [00:00<?, ?it/s]/opt/conda/lib/python3.7/site-packages/albumentations/augmentations/functional.py:792: UserWarning: Image compression augmentation is most effective with uint8 inputs, float32 is used as input.\r\n",
      "  UserWarning,\r\n",
      "Step: 499. Epoch: 0/2. Iteration: 500/845. Cls loss: 0.12072. Reg loss: 1.55759.Saving ckpt efficientdet-d6_0_500.pth as last_ckpt.pth\r\n",
      "Step: 844. Epoch: 0/2. Iteration: 845/845. Cls loss: 0.12858. Reg loss: 1.64122.\r\n",
      "Val. Epoch: 0/2. Classification loss: 0.12721. Regression loss: 1.55909. Total loss: 1.68630\r\n",
      "Saving ckpt efficientdet-d6_0_845.pth as last_ckpt.pth\r\n",
      "Step: 999. Epoch: 1/2. Iteration: 155/845. Cls loss: 0.11700. Reg loss: 1.47568.Saving ckpt efficientdet-d6_1_1000.pth as last_ckpt.pth\r\n",
      "Step: 1499. Epoch: 1/2. Iteration: 655/845. Cls loss: 0.12037. Reg loss: 1.57097Saving ckpt efficientdet-d6_1_1500.pth as last_ckpt.pth\r\n",
      "Step: 1689. Epoch: 1/2. Iteration: 845/845. Cls loss: 0.11783. Reg loss: 1.59973\r\n",
      "Val. Epoch: 1/2. Classification loss: 0.14897. Regression loss: 1.56770. Total loss: 1.71667\r\n",
      "\u001b[0m"
     ]
    }
   ],
   "source": [
    "!python ../input/efficientdet/train_pseudo.py --data_path ../input/global-wheat-detection -c 6 -w ../input/efficientdet/efficientdet-d6_204_57500_mix_cut.pth --threshold 0.43 -p global_wheat_detection -n 0 --batch_size 4 --num_epochs 2 -pw ../input/efficientdet/efficientdet-d6_204_57500_mix_cut.pth --wbf_threshold 0.45 --wbf_iou_threshold 0.55 --quantity 1 --confidence 0.3"
   ]
  },
  {
   "cell_type": "code",
   "execution_count": 3,
   "metadata": {
    "execution": {
     "iopub.execute_input": "2020-12-29T21:07:46.551610Z",
     "iopub.status.busy": "2020-12-29T21:07:46.550727Z",
     "iopub.status.idle": "2020-12-29T21:08:12.488894Z",
     "shell.execute_reply": "2020-12-29T21:08:12.488366Z"
    },
    "papermill": {
     "duration": 26.548235,
     "end_time": "2020-12-29T21:08:12.489041",
     "exception": false,
     "start_time": "2020-12-29T21:07:45.940806",
     "status": "completed"
    },
    "tags": []
   },
   "outputs": [
    {
     "name": "stdout",
     "output_type": "stream",
     "text": [
      "/opt/conda/lib/python3.7/site-packages/ensemble_boxes/ensemble_boxes_wbf.py:73: UserWarning: X2 > 1 in box. Set it to 1. Check that you normalize boxes in [0, 1] range.\r\n",
      "  warnings.warn('X2 > 1 in box. Set it to 1. Check that you normalize boxes in [0, 1] range.')\r\n",
      "/opt/conda/lib/python3.7/site-packages/ensemble_boxes/ensemble_boxes_wbf.py:85: UserWarning: Y2 > 1 in box. Set it to 1. Check that you normalize boxes in [0, 1] range.\r\n",
      "  warnings.warn('Y2 > 1 in box. Set it to 1. Check that you normalize boxes in [0, 1] range.')\r\n",
      "/opt/conda/lib/python3.7/site-packages/ensemble_boxes/ensemble_boxes_wbf.py:73: UserWarning: X2 > 1 in box. Set it to 1. Check that you normalize boxes in [0, 1] range.\r\n",
      "  warnings.warn('X2 > 1 in box. Set it to 1. Check that you normalize boxes in [0, 1] range.')\r\n",
      "\u001b[0m"
     ]
    }
   ],
   "source": [
    "!python ../input/efficientdet/wheat_test.py --data_path ../input/global-wheat-detection -c 6 -w ./logs/pseudo_train/global_wheat_detection/last_ckpt.pth --threshold 0.43 --wbf_threshold 0.45 --wbf_iou_threshold 0.55"
   ]
  },
  {
   "cell_type": "code",
   "execution_count": 4,
   "metadata": {
    "execution": {
     "iopub.execute_input": "2020-12-29T21:08:13.701576Z",
     "iopub.status.busy": "2020-12-29T21:08:13.700709Z",
     "iopub.status.idle": "2020-12-29T21:08:14.369288Z",
     "shell.execute_reply": "2020-12-29T21:08:14.368492Z"
    },
    "papermill": {
     "duration": 1.283035,
     "end_time": "2020-12-29T21:08:14.369411",
     "exception": false,
     "start_time": "2020-12-29T21:08:13.086376",
     "status": "completed"
    },
    "tags": []
   },
   "outputs": [],
   "source": [
    "!rm -rf logs"
   ]
  }
 ],
 "metadata": {
  "kernelspec": {
   "display_name": "Python 3",
   "language": "python",
   "name": "python3"
  },
  "language_info": {
   "codemirror_mode": {
    "name": "ipython",
    "version": 3
   },
   "file_extension": ".py",
   "mimetype": "text/x-python",
   "name": "python",
   "nbconvert_exporter": "python",
   "pygments_lexer": "ipython3",
   "version": "3.7.6"
  },
  "papermill": {
   "duration": 4518.134355,
   "end_time": "2020-12-29T21:08:15.080005",
   "environment_variables": {},
   "exception": null,
   "input_path": "__notebook__.ipynb",
   "output_path": "__notebook__.ipynb",
   "parameters": {},
   "start_time": "2020-12-29T19:52:56.945650",
   "version": "2.1.0"
  }
 },
 "nbformat": 4,
 "nbformat_minor": 4
}
